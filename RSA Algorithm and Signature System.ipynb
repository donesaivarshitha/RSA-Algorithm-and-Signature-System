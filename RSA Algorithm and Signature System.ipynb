{
 "cells": [
  {
   "cell_type": "markdown",
   "id": "7c3da054-0e8e-4e66-bd45-d0791ad9122b",
   "metadata": {},
   "source": [
    "1. Implementation of RSA Algorithm"
   ]
  },
  {
   "cell_type": "code",
   "execution_count": 1,
   "id": "6b2cdc0c-8cea-4478-9726-56960d4c379f",
   "metadata": {},
   "outputs": [
    {
     "name": "stdout",
     "output_type": "stream",
     "text": [
      "n = 55\n",
      "e = 3\n",
      "d = 27\n",
      "Public key: (3, 55)\n",
      "Private key: (27, 55)\n",
      "Original message: 15\n",
      "Encrypted message: 20\n",
      "Decrypted message: 15\n"
     ]
    }
   ],
   "source": [
    "import math\n",
    "\n",
    "# Step 1: Choose two prime numbers\n",
    "p = 5\n",
    "q = 11\n",
    "\n",
    "# Step 2: Compute modulus n\n",
    "n = p * q\n",
    "print(\"n =\", n)\n",
    "\n",
    "# Step 3: Compute Euler's totient function φ(n)\n",
    "phi = (p - 1) * (q - 1)\n",
    "\n",
    "# Step 4: Choose public exponent e such that gcd(e, phi) = 1\n",
    "e = 2\n",
    "while e < phi:\n",
    "    if math.gcd(e, phi) == 1:\n",
    "        break\n",
    "    e += 1\n",
    "print(\"e =\", e)\n",
    "\n",
    "# Step 5: Compute private exponent d\n",
    "# d is modular inverse of e mod phi\n",
    "d = pow(e, -1, phi)\n",
    "print(\"d =\", d)\n",
    "\n",
    "# Display public and private keys\n",
    "print(f'Public key: {(e, n)}')\n",
    "print(f'Private key: {(d, n)}')\n",
    "\n",
    "# Step 6: Plaintext message (must be less than n)\n",
    "msg = 15\n",
    "print(f'Original message: {msg}')\n",
    "\n",
    "# Step 7: Encryption -> C = (msg ^ e) mod n\n",
    "C = pow(msg, e, n)\n",
    "print(f'Encrypted message: {C}')\n",
    "\n",
    "# Step 8: Decryption -> M = (C ^ d) mod n\n",
    "M = pow(C, d, n)\n",
    "print(f'Decrypted message: {M}')"
   ]
  },
  {
   "cell_type": "markdown",
   "id": "13dd903c-fda9-4340-8b33-1a546d5f6bd5",
   "metadata": {},
   "source": [
    "2. Implementation of RSA-based signature system."
   ]
  },
  {
   "cell_type": "code",
   "execution_count": 2,
   "id": "3a1d3eef-63bd-4d41-99f8-8830de802d05",
   "metadata": {},
   "outputs": [
    {
     "name": "stdout",
     "output_type": "stream",
     "text": [
      "Public Key  (e, n): (313, 784319)\n",
      "Private Key (d, n): (160009, 784319)\n",
      "\n",
      "Original Message: 19000\n",
      "Digital Signature: 569813\n",
      "Verification Successful (M = M1)\n",
      "Message Accepted\n"
     ]
    }
   ],
   "source": [
    "import math\n",
    "\n",
    "# Function to compute GCD\n",
    "def gcd(a, b):\n",
    "    if b == 0:\n",
    "        return a\n",
    "    return gcd(b, a % b)\n",
    "\n",
    "# Extended Euclidean Algorithm to find modular inverse\n",
    "def extended_euclid(a, b):\n",
    "    r1, r2 = a, b\n",
    "    t1, t2 = 0, 1\n",
    "\n",
    "    while r2 > 0:\n",
    "        q = r1 // r2\n",
    "        r1, r2 = r2, r1 - q * r2\n",
    "        t1, t2 = t2, t1 - q * t2\n",
    "\n",
    "    # Make sure modular inverse is positive\n",
    "    if t1 < 0:\n",
    "        t1 = (t1 + a) % a\n",
    "    return r1, t1\n",
    "\n",
    "# ---------------- Key Generation ---------------- #\n",
    "\n",
    "# Step 1: Choose two large prime numbers\n",
    "p = 823\n",
    "q = 953\n",
    "\n",
    "# Step 2: Compute modulus\n",
    "n = p * q\n",
    "\n",
    "# Step 3: Compute Euler's totient\n",
    "phi = (p - 1) * (q - 1)\n",
    "\n",
    "# Step 4: Choose public key exponent e (coprime with phi)\n",
    "e = 313\n",
    "if gcd(e, phi) != 1:\n",
    "    raise ValueError(\"e is not coprime with phi, choose another e\")\n",
    "\n",
    "# Step 5: Compute private key exponent d (modular inverse of e mod phi)\n",
    "r, d = extended_euclid(phi, e)\n",
    "if r != 1:\n",
    "    raise ValueError(\"Modular inverse for e does not exist\")\n",
    "print(\"Public Key  (e, n):\", (e, n))\n",
    "print(\"Private Key (d, n):\", (d, n))\n",
    "\n",
    "# ---------------- Digital Signature ---------------- #\n",
    "\n",
    "# Message to be signed\n",
    "M = 19000\n",
    "print(\"\\nOriginal Message:\", M)\n",
    "\n",
    "# Step 6: Alice generates signature using private key (signing)\n",
    "S = pow(M, d, n)  # S = (M ^ d) mod n\n",
    "print(\"Digital Signature:\", S)\n",
    "\n",
    "# Step 7: Bob verifies message using Alice's public key\n",
    "M1 = pow(S, e, n)  # M1 = (S ^ e) mod n\n",
    "\n",
    "# Step 8: Verification\n",
    "if M == M1:\n",
    "    print(\"Verification Successful (M = M1)\")\n",
    "    print(\"Message Accepted\")\n",
    "else:\n",
    "    print(\"Verification Failed (M ≠ M1)\")\n",
    "    print(\"Message Rejected\")"
   ]
  }
 ],
 "metadata": {
  "kernelspec": {
   "display_name": "Python [conda env:base] *",
   "language": "python",
   "name": "conda-base-py"
  },
  "language_info": {
   "codemirror_mode": {
    "name": "ipython",
    "version": 3
   },
   "file_extension": ".py",
   "mimetype": "text/x-python",
   "name": "python",
   "nbconvert_exporter": "python",
   "pygments_lexer": "ipython3",
   "version": "3.13.5"
  }
 },
 "nbformat": 4,
 "nbformat_minor": 5
}
